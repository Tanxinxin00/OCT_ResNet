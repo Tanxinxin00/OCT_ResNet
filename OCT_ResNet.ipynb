{
  "cells": [
    {
      "cell_type": "code",
      "execution_count": null,
      "metadata": {
        "colab": {
          "base_uri": "https://localhost:8080/"
        },
        "id": "L4qKUP1StK9h",
        "outputId": "62d517d6-9971-4d7f-a2a9-92b26232ed7b"
      },
      "outputs": [
        {
          "name": "stdout",
          "output_type": "stream",
          "text": [
            "Looking in indexes: https://pypi.org/simple, https://us-python.pkg.dev/colab-wheels/public/simple/\n",
            "Requirement already satisfied: wget in /usr/local/lib/python3.10/dist-packages (3.2)\n"
          ]
        },
        {
          "data": {
            "text/plain": [
              "<torch._C.Generator at 0x7fecb616c950>"
            ]
          },
          "execution_count": 3,
          "metadata": {},
          "output_type": "execute_result"
        }
      ],
      "source": [
        "# importing requirements\n",
        "!pip install wget\n",
        "import wget\n",
        "import torch\n",
        "import gc\n",
        "torch.manual_seed(0) #For reproducibility"
      ]
    },
    {
      "cell_type": "code",
      "execution_count": null,
      "metadata": {
        "colab": {
          "base_uri": "https://localhost:8080/",
          "height": 35
        },
        "id": "WkLG1-j7tOYV",
        "outputId": "60035b92-7866-4401-a9dc-778064290562"
      },
      "outputs": [
        {
          "data": {
            "application/vnd.google.colaboratory.intrinsic+json": {
              "type": "string"
            },
            "text/plain": [
              "'/content/Data (1).zip'"
            ]
          },
          "execution_count": 4,
          "metadata": {},
          "output_type": "execute_result"
        }
      ],
      "source": [
        "# download the dataset \n",
        "# will take around 7 min\n",
        "url='https://prod-dcd-datasets-cache-zipfiles.s3.eu-west-1.amazonaws.com/rscbjbr9sj-2.zip'\n",
        "\n",
        "wget.download(url, '/content/Data.zip')"
      ]
    },
    {
      "cell_type": "code",
      "execution_count": null,
      "metadata": {
        "colab": {
          "base_uri": "https://localhost:8080/"
        },
        "id": "H_5zKa8-tXbl",
        "outputId": "b8dad4ab-193d-44cd-f52f-59a51b7e1119"
      },
      "outputs": [
        {
          "name": "stdout",
          "output_type": "stream",
          "text": [
            "Archive:  /content/Data.zip\n",
            "  inflating: /content/OCT2017.tar.gz  \n",
            "replace /content/ChestXRay2017.zip? [y]es, [n]o, [A]ll, [N]one, [r]ename: y\n",
            "  inflating: /content/ChestXRay2017.zip  \n",
            "replace /content/code2017.zip? [y]es, [n]o, [A]ll, [N]one, [r]ename: y\n",
            "  inflating: /content/code2017.zip   \n"
          ]
        }
      ],
      "source": [
        "# unzipping the files\n",
        "!unzip /content/Data.zip -d /content/\n",
        "!gzip -d /content/OCT2017.tar.gz\n",
        "!tar -xf /content/OCT2017.tar -C /content"
      ]
    },
    {
      "cell_type": "code",
      "execution_count": null,
      "metadata": {
        "colab": {
          "background_save": true
        },
        "id": "NrAf-GfIJpA0"
      },
      "outputs": [],
      "source": [
        "from MyDataSet import OCTDataset\n",
        "\n",
        "train_set = OCTDataset('/content/OCT2017/train')\n",
        "\n",
        "for x, y in train_set:\n",
        "  print(x.shape)\n",
        "  break\n",
        "gc.collect()\n",
        "# CNV 37205\n",
        "# DME 11348\n",
        "# DRUSEN 8616\n",
        "# NORMAL 26315\n",
        "\n",
        "valid_set = OCTDataset('/content/OCT2017/test')\n",
        "\n",
        "for x, y in valid_set:\n",
        "  print(x.shape)\n",
        "  break\n",
        "\n",
        "# CNV 250\n",
        "# DME 250\n",
        "# DRUSEN 250\n",
        "# NORMAL 250\n",
        "gc.collect()"
      ]
    },
    {
      "cell_type": "code",
      "execution_count": null,
      "metadata": {
        "id": "gefI_AH8xBBK"
      },
      "outputs": [],
      "source": [
        "batch_size = 64\n",
        "trainloader = torch.utils.data.DataLoader(train_set, batch_size=batch_size, shuffle=True, num_workers=2)\n",
        "testloader = torch.utils.data.DataLoader(valid_set, batch_size=batch_size, shuffle=False, num_workers=2)"
      ]
    },
    {
      "cell_type": "code",
      "execution_count": null,
      "metadata": {
        "id": "9FFIoOCeuBL0"
      },
      "outputs": [],
      "source": [
        "device = \"cuda\" if torch.cuda.is_available() else \"mps\" if torch.backends.mps.is_available() else \"cpu\"\n",
        "from MyResNet import ResidualBlock, ResNet, BottleneckBlock, ResNet50\n",
        "\n",
        "# For ResNet18:\n",
        "model=ResNet(ResidualBlock,[2,2,2,2],4).to(device)\n",
        "# For ResNet34:\n",
        "# model=ResNet(ResidualBlock,[3,4,6,3],4).to(device)\n",
        "# For ResNet50:\n",
        "# model=ResNet50(BottleneckBlock,[3,4,6,3],4).to(device)"
      ]
    },
    {
      "cell_type": "code",
      "execution_count": null,
      "metadata": {
        "id": "rRa07PlvuDYU"
      },
      "outputs": [],
      "source": [
        "num_iter = 10\n",
        "loss_fn = torch.nn.CrossEntropyLoss()\n",
        "optimizer = torch.torch.optim.AdamW(model.parameters(), lr=1e-4, weight_decay=5e-4)\n",
        "scheduler = torch.optim.lr_scheduler.CosineAnnealingLR(optimizer, num_iter, eta_min=5e-6)\n",
        "scaler = torch.cuda.amp.GradScaler()"
      ]
    },
    {
      "cell_type": "code",
      "execution_count": null,
      "metadata": {
        "id": "d_Gg_CKx9OPq"
      },
      "outputs": [],
      "source": [
        "from TrainnTest import train, test\n",
        "best_accuracy = 0.0\n",
        "train_acc_list, test_acc_list = [], []\n",
        "train_loss_list, test_loss_list = [], []\n",
        "\n",
        "gc.collect()\n",
        "for epoch in range(num_iter):\n",
        "    print(\"\\nEpoch: {}/{}\".format(epoch+1, num_iter))\n",
        "\n",
        "    train_loss, train_acc = train(trainloader,model, loss_fn, optimizer, scaler,device)\n",
        "\n",
        "    test_loss, test_acc = test(testloader,model, loss_fn,device)\n",
        "\n",
        "    print(\"\\nEpoch {}/{}: \\nTrain Loss {:.04f}\\t Train Accuracy {:.04f}\\nValid Loss {:.04f}\\t Valid Accuracy {:.04f}\\nLearning Rate {:.08f}\".format(\n",
        "        epoch + 1,\n",
        "        num_iter,\n",
        "        train_loss,\n",
        "        train_acc,\n",
        "        test_loss,\n",
        "        test_acc,\n",
        "        float(optimizer.param_groups[0]['lr']))\n",
        "    )\n",
        "    train_acc_list.append(train_acc)\n",
        "    test_acc_list.append(test_acc)\n",
        "    train_loss_list.append(train_loss)\n",
        "    test_loss_list.append(test_loss)\n",
        "    \n",
        "    scheduler.step()\n",
        "\n",
        "    if test_acc > best_accuracy:\n",
        "      best_accuracy = test_acc\n",
        "      torch.save({'model_state_dict':model.state_dict(),\n",
        "                  'test_acc': test_acc, \n",
        "                  'epoch': epoch}, './mresnet_best.pth')"
      ]
    },
    {
      "cell_type": "code",
      "execution_count": null,
      "metadata": {},
      "outputs": [],
      "source": [
        "# restore the labels from the numbers\n",
        "dic = {\n",
        "    0 : \"CNV\",\n",
        "    1 : \"DME\" ,\n",
        "    2 : \"DRUSEN\",\n",
        "    3 : \"NORMAL\" \n",
        "}"
      ]
    },
    {
      "cell_type": "code",
      "execution_count": null,
      "metadata": {
        "id": "H5Owtx4G-tTg"
      },
      "outputs": [],
      "source": [
        "from ResultAnalysis import PlotEpoch, ShowMistakes,ShowConfusionMatrix,GetPredictions\n",
        "PlotEpoch(test_acc_list,test_loss_list,train_acc_list,train_loss_list)\n",
        "\n",
        "preds, labels = GetPredictions(model,testloader,device)\n",
        "labels = [dic[i] for i in labels]\n",
        "\n",
        "ShowConfusionMatrix(preds,labels)\n",
        "\n",
        "ShowMistakes(preds,labels,valid_set)"
      ]
    }
  ],
  "metadata": {
    "accelerator": "GPU",
    "colab": {
      "machine_shape": "hm",
      "provenance": []
    },
    "gpuClass": "premium",
    "kernelspec": {
      "display_name": "Python 3",
      "name": "python3"
    },
    "language_info": {
      "name": "python"
    }
  },
  "nbformat": 4,
  "nbformat_minor": 0
}
